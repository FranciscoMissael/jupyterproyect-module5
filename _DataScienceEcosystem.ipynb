{
 "cells": [
  {
   "cell_type": "markdown",
   "id": "5997ecff-dba7-41c8-9c24-ac3b574768d5",
   "metadata": {},
   "source": [
    "# Data Science Tools and Ecosystem"
   ]
  },
  {
   "cell_type": "markdown",
   "id": "278e34f8-6f16-46b0-9076-7a80549b7e55",
   "metadata": {},
   "source": [
    "## Author:\n",
    "Francisco Missael Orozco Laines"
   ]
  },
  {
   "cell_type": "markdown",
   "id": "80f44e9c-59d9-4b50-a515-3097425941bd",
   "metadata": {},
   "source": [
    "##### In this notebook, Data Science Tools and Ecosystem are summarized."
   ]
  },
  {
   "cell_type": "markdown",
   "id": "b0a05d11-59e0-4164-bda6-e547f352251b",
   "metadata": {},
   "source": [
    "**Objetives**\n",
    "* Learn some popular languages for data science.\n",
    "* Learn some commonly used libraries for data science.\n",
    "* Learn three popular open source development data science tools.\n",
    "* Learn how to make arithmetical expressions in Python code.\n",
    "* Convert minutes to hours with a python expression."
   ]
  },
  {
   "cell_type": "markdown",
   "id": "9ed9672a-201b-4f1f-8042-5e3023f1a9e9",
   "metadata": {},
   "source": [
    "##### Some of the popular languages that Data Scientists use are:\n",
    "\n",
    "1. Python\n",
    "2. R\n",
    "3. C++\n",
    "4. SQL\n",
    "5. Java\n",
    "6. Scala\n",
    "7. Matlab\n",
    "   "
   ]
  },
  {
   "cell_type": "markdown",
   "id": "69a72cc8-6154-48a6-86b3-9e40667a811c",
   "metadata": {},
   "source": [
    "Some of the commonly used libraries used by Data Scientists include:\n",
    "\n",
    "1. NumPy.\n",
    "2. Pandas.\n",
    "3. Matplotib.\n",
    "4. Seaborn.\n",
    "5. Plotly."
   ]
  },
  {
   "cell_type": "markdown",
   "id": "024cbb41-0970-41c6-986f-ddb40a39ff16",
   "metadata": {},
   "source": [
    "| Data science tools |\n",
    "| ------ |\n",
    "| JupyterLab |\n",
    "| Rstudio |\n",
    "| VSCode |"
   ]
  },
  {
   "cell_type": "markdown",
   "id": "2198f9f6-1c01-4d6c-8f67-ffe1f20f60c9",
   "metadata": {},
   "source": [
    "Below are a few examples of evaluating arithmetic expressions in Python:"
   ]
  },
  {
   "cell_type": "code",
   "execution_count": 2,
   "id": "1e98e94d-90fd-4718-ab0a-2599b95be7cb",
   "metadata": {},
   "outputs": [
    {
     "data": {
      "text/plain": [
       "17"
      ]
     },
     "execution_count": 2,
     "metadata": {},
     "output_type": "execute_result"
    }
   ],
   "source": [
    "(3*4)+5\n",
    "# This a simple arithmetic expression to multiply then add integers."
   ]
  },
  {
   "cell_type": "code",
   "execution_count": 4,
   "id": "19003410-bc5f-4d74-9951-5c5920606111",
   "metadata": {},
   "outputs": [
    {
     "name": "stdout",
     "output_type": "stream",
     "text": [
      "3.3333333333333335\n"
     ]
    }
   ],
   "source": [
    "minutes = 200\n",
    "hours = 60\n",
    "Minutes_to_hours = minutes / hours\n",
    "print(Minutes_to_hours)\n",
    "# This will convert 200 minutes to hours by diving by 60."
   ]
  },
  {
   "cell_type": "code",
   "execution_count": null,
   "id": "bc84bc02-abc7-4d11-8040-8460173de0cd",
   "metadata": {},
   "outputs": [],
   "source": []
  }
 ],
 "metadata": {
  "kernelspec": {
   "display_name": "Python 3 (ipykernel)",
   "language": "python",
   "name": "python3"
  },
  "language_info": {
   "codemirror_mode": {
    "name": "ipython",
    "version": 3
   },
   "file_extension": ".py",
   "mimetype": "text/x-python",
   "name": "python",
   "nbconvert_exporter": "python",
   "pygments_lexer": "ipython3",
   "version": "3.11.9"
  }
 },
 "nbformat": 4,
 "nbformat_minor": 5
}
